{
 "cells": [
  {
   "cell_type": "code",
   "execution_count": 1,
   "id": "51504d2b",
   "metadata": {},
   "outputs": [],
   "source": [
    "# Dependencies and Setup\n",
    "import pandas as pd\n",
    "import numpy as np\n",
    "from scipy.sparse import csr_matrix\n",
    "from sklearn.neighbors import NearestNeighbors\n",
    "import matplotlib.pyplot as plt"
   ]
  },
  {
   "cell_type": "code",
   "execution_count": 2,
   "id": "3839fc1c",
   "metadata": {},
   "outputs": [
    {
     "data": {
      "text/html": [
       "<div>\n",
       "<style scoped>\n",
       "    .dataframe tbody tr th:only-of-type {\n",
       "        vertical-align: middle;\n",
       "    }\n",
       "\n",
       "    .dataframe tbody tr th {\n",
       "        vertical-align: top;\n",
       "    }\n",
       "\n",
       "    .dataframe thead th {\n",
       "        text-align: right;\n",
       "    }\n",
       "</style>\n",
       "<table border=\"1\" class=\"dataframe\">\n",
       "  <thead>\n",
       "    <tr style=\"text-align: right;\">\n",
       "      <th></th>\n",
       "      <th>ISBN</th>\n",
       "      <th>Book-Title</th>\n",
       "      <th>Book-Author</th>\n",
       "      <th>Year-Of-Publication</th>\n",
       "      <th>Publisher</th>\n",
       "      <th>User-ID</th>\n",
       "      <th>Book-Rating</th>\n",
       "    </tr>\n",
       "  </thead>\n",
       "  <tbody>\n",
       "    <tr>\n",
       "      <th>0</th>\n",
       "      <td>0195153448</td>\n",
       "      <td>Classical Mythology</td>\n",
       "      <td>Mark P. O. Morford</td>\n",
       "      <td>2002</td>\n",
       "      <td>Oxford University Press</td>\n",
       "      <td>NaN</td>\n",
       "      <td>NaN</td>\n",
       "    </tr>\n",
       "    <tr>\n",
       "      <th>1</th>\n",
       "      <td>0002005018</td>\n",
       "      <td>Clara Callan</td>\n",
       "      <td>Richard Bruce Wright</td>\n",
       "      <td>2001</td>\n",
       "      <td>HarperFlamingo Canada</td>\n",
       "      <td>8.0</td>\n",
       "      <td>5.0</td>\n",
       "    </tr>\n",
       "    <tr>\n",
       "      <th>2</th>\n",
       "      <td>0002005018</td>\n",
       "      <td>Clara Callan</td>\n",
       "      <td>Richard Bruce Wright</td>\n",
       "      <td>2001</td>\n",
       "      <td>HarperFlamingo Canada</td>\n",
       "      <td>11676.0</td>\n",
       "      <td>8.0</td>\n",
       "    </tr>\n",
       "    <tr>\n",
       "      <th>3</th>\n",
       "      <td>0002005018</td>\n",
       "      <td>Clara Callan</td>\n",
       "      <td>Richard Bruce Wright</td>\n",
       "      <td>2001</td>\n",
       "      <td>HarperFlamingo Canada</td>\n",
       "      <td>67544.0</td>\n",
       "      <td>8.0</td>\n",
       "    </tr>\n",
       "    <tr>\n",
       "      <th>4</th>\n",
       "      <td>0002005018</td>\n",
       "      <td>Clara Callan</td>\n",
       "      <td>Richard Bruce Wright</td>\n",
       "      <td>2001</td>\n",
       "      <td>HarperFlamingo Canada</td>\n",
       "      <td>116866.0</td>\n",
       "      <td>9.0</td>\n",
       "    </tr>\n",
       "  </tbody>\n",
       "</table>\n",
       "</div>"
      ],
      "text/plain": [
       "         ISBN           Book-Title           Book-Author Year-Of-Publication  \\\n",
       "0  0195153448  Classical Mythology    Mark P. O. Morford                2002   \n",
       "1  0002005018         Clara Callan  Richard Bruce Wright                2001   \n",
       "2  0002005018         Clara Callan  Richard Bruce Wright                2001   \n",
       "3  0002005018         Clara Callan  Richard Bruce Wright                2001   \n",
       "4  0002005018         Clara Callan  Richard Bruce Wright                2001   \n",
       "\n",
       "                 Publisher   User-ID  Book-Rating  \n",
       "0  Oxford University Press       NaN          NaN  \n",
       "1    HarperFlamingo Canada       8.0          5.0  \n",
       "2    HarperFlamingo Canada   11676.0          8.0  \n",
       "3    HarperFlamingo Canada   67544.0          8.0  \n",
       "4    HarperFlamingo Canada  116866.0          9.0  "
      ]
     },
     "execution_count": 2,
     "metadata": {},
     "output_type": "execute_result"
    }
   ],
   "source": [
    "# Read the books and the ratings data\n",
    "books = pd.read_csv(\"./Resources/Books.csv\", low_memory = False)\n",
    "ratings = pd.read_csv(\"./Resources/Ratings.csv\", low_memory = False)\n",
    "\n",
    "#Combine both into a single DataFrame\n",
    "book_ratings = books.merge(ratings, how = \"outer\", on = \"ISBN\")\n",
    "\n",
    "# Display data for preview\n",
    "book_ratings.head()"
   ]
  },
  {
   "cell_type": "code",
   "execution_count": 3,
   "id": "a0dba3bf",
   "metadata": {},
   "outputs": [
    {
     "data": {
      "text/plain": [
       "ISBN                    object\n",
       "Book-Title              object\n",
       "Book-Author             object\n",
       "Year-Of-Publication     object\n",
       "Publisher               object\n",
       "User-ID                float64\n",
       "Book-Rating            float64\n",
       "dtype: object"
      ]
     },
     "execution_count": 3,
     "metadata": {},
     "output_type": "execute_result"
    }
   ],
   "source": [
    "book_ratings.dtypes"
   ]
  },
  {
   "cell_type": "code",
   "execution_count": 4,
   "id": "d3b026a4",
   "metadata": {},
   "outputs": [
    {
     "data": {
      "text/plain": [
       "ISBN                   555195\n",
       "Book-Title             505366\n",
       "Book-Author            505365\n",
       "Year-Of-Publication    505366\n",
       "Publisher              505364\n",
       "User-ID                433671\n",
       "Book-Rating            433671\n",
       "dtype: int64"
      ]
     },
     "execution_count": 4,
     "metadata": {},
     "output_type": "execute_result"
    }
   ],
   "source": [
    "book_ratings.count()"
   ]
  },
  {
   "cell_type": "code",
   "execution_count": 5,
   "id": "7f4294ab",
   "metadata": {},
   "outputs": [],
   "source": [
    "book_ratings = book_ratings.dropna(how = \"any\")"
   ]
  },
  {
   "cell_type": "code",
   "execution_count": 6,
   "id": "90fbf73b",
   "metadata": {},
   "outputs": [
    {
     "data": {
      "text/plain": [
       "ISBN                   383839\n",
       "Book-Title             383839\n",
       "Book-Author            383839\n",
       "Year-Of-Publication    383839\n",
       "Publisher              383839\n",
       "User-ID                383839\n",
       "Book-Rating            383839\n",
       "dtype: int64"
      ]
     },
     "execution_count": 6,
     "metadata": {},
     "output_type": "execute_result"
    }
   ],
   "source": [
    "book_ratings.count()"
   ]
  },
  {
   "cell_type": "code",
   "execution_count": 7,
   "id": "f94e3794",
   "metadata": {},
   "outputs": [
    {
     "data": {
      "text/html": [
       "<div>\n",
       "<style scoped>\n",
       "    .dataframe tbody tr th:only-of-type {\n",
       "        vertical-align: middle;\n",
       "    }\n",
       "\n",
       "    .dataframe tbody tr th {\n",
       "        vertical-align: top;\n",
       "    }\n",
       "\n",
       "    .dataframe thead th {\n",
       "        text-align: right;\n",
       "    }\n",
       "</style>\n",
       "<table border=\"1\" class=\"dataframe\">\n",
       "  <thead>\n",
       "    <tr style=\"text-align: right;\">\n",
       "      <th></th>\n",
       "      <th>ISBN</th>\n",
       "      <th>Book-Title</th>\n",
       "      <th>Book-Author</th>\n",
       "      <th>Year-Of-Publication</th>\n",
       "      <th>Publisher</th>\n",
       "      <th>User-ID</th>\n",
       "      <th>Book-Rating</th>\n",
       "    </tr>\n",
       "  </thead>\n",
       "  <tbody>\n",
       "    <tr>\n",
       "      <th>1</th>\n",
       "      <td>0002005018</td>\n",
       "      <td>Clara Callan</td>\n",
       "      <td>Richard Bruce Wright</td>\n",
       "      <td>2001</td>\n",
       "      <td>HarperFlamingo Canada</td>\n",
       "      <td>8.0</td>\n",
       "      <td>5.0</td>\n",
       "    </tr>\n",
       "    <tr>\n",
       "      <th>2</th>\n",
       "      <td>0002005018</td>\n",
       "      <td>Clara Callan</td>\n",
       "      <td>Richard Bruce Wright</td>\n",
       "      <td>2001</td>\n",
       "      <td>HarperFlamingo Canada</td>\n",
       "      <td>11676.0</td>\n",
       "      <td>8.0</td>\n",
       "    </tr>\n",
       "    <tr>\n",
       "      <th>3</th>\n",
       "      <td>0002005018</td>\n",
       "      <td>Clara Callan</td>\n",
       "      <td>Richard Bruce Wright</td>\n",
       "      <td>2001</td>\n",
       "      <td>HarperFlamingo Canada</td>\n",
       "      <td>67544.0</td>\n",
       "      <td>8.0</td>\n",
       "    </tr>\n",
       "    <tr>\n",
       "      <th>4</th>\n",
       "      <td>0002005018</td>\n",
       "      <td>Clara Callan</td>\n",
       "      <td>Richard Bruce Wright</td>\n",
       "      <td>2001</td>\n",
       "      <td>HarperFlamingo Canada</td>\n",
       "      <td>116866.0</td>\n",
       "      <td>9.0</td>\n",
       "    </tr>\n",
       "    <tr>\n",
       "      <th>5</th>\n",
       "      <td>0002005018</td>\n",
       "      <td>Clara Callan</td>\n",
       "      <td>Richard Bruce Wright</td>\n",
       "      <td>2001</td>\n",
       "      <td>HarperFlamingo Canada</td>\n",
       "      <td>123629.0</td>\n",
       "      <td>9.0</td>\n",
       "    </tr>\n",
       "    <tr>\n",
       "      <th>...</th>\n",
       "      <td>...</td>\n",
       "      <td>...</td>\n",
       "      <td>...</td>\n",
       "      <td>...</td>\n",
       "      <td>...</td>\n",
       "      <td>...</td>\n",
       "      <td>...</td>\n",
       "    </tr>\n",
       "    <tr>\n",
       "      <th>505352</th>\n",
       "      <td>0395264707</td>\n",
       "      <td>Dreamsnake</td>\n",
       "      <td>Vonda N. McIntyre</td>\n",
       "      <td>1978</td>\n",
       "      <td>Houghton Mifflin</td>\n",
       "      <td>275318.0</td>\n",
       "      <td>10.0</td>\n",
       "    </tr>\n",
       "    <tr>\n",
       "      <th>505358</th>\n",
       "      <td>1845170423</td>\n",
       "      <td>Cocktail Classics</td>\n",
       "      <td>David Biggs</td>\n",
       "      <td>2004</td>\n",
       "      <td>Connaught</td>\n",
       "      <td>275970.0</td>\n",
       "      <td>7.0</td>\n",
       "    </tr>\n",
       "    <tr>\n",
       "      <th>505360</th>\n",
       "      <td>0449906736</td>\n",
       "      <td>Flashpoints: Promise and Peril in a New World</td>\n",
       "      <td>Robin Wright</td>\n",
       "      <td>1993</td>\n",
       "      <td>Ballantine Books</td>\n",
       "      <td>276313.0</td>\n",
       "      <td>5.0</td>\n",
       "    </tr>\n",
       "    <tr>\n",
       "      <th>505361</th>\n",
       "      <td>0440400988</td>\n",
       "      <td>There's a Bat in Bunk Five</td>\n",
       "      <td>Paula Danziger</td>\n",
       "      <td>1988</td>\n",
       "      <td>Random House Childrens Pub (Mm)</td>\n",
       "      <td>276463.0</td>\n",
       "      <td>7.0</td>\n",
       "    </tr>\n",
       "    <tr>\n",
       "      <th>505362</th>\n",
       "      <td>0525447644</td>\n",
       "      <td>From One to One Hundred</td>\n",
       "      <td>Teri Sloat</td>\n",
       "      <td>1991</td>\n",
       "      <td>Dutton Books</td>\n",
       "      <td>276579.0</td>\n",
       "      <td>4.0</td>\n",
       "    </tr>\n",
       "  </tbody>\n",
       "</table>\n",
       "<p>383839 rows × 7 columns</p>\n",
       "</div>"
      ],
      "text/plain": [
       "              ISBN                                     Book-Title  \\\n",
       "1       0002005018                                   Clara Callan   \n",
       "2       0002005018                                   Clara Callan   \n",
       "3       0002005018                                   Clara Callan   \n",
       "4       0002005018                                   Clara Callan   \n",
       "5       0002005018                                   Clara Callan   \n",
       "...            ...                                            ...   \n",
       "505352  0395264707                                     Dreamsnake   \n",
       "505358  1845170423                              Cocktail Classics   \n",
       "505360  0449906736  Flashpoints: Promise and Peril in a New World   \n",
       "505361  0440400988                     There's a Bat in Bunk Five   \n",
       "505362  0525447644                        From One to One Hundred   \n",
       "\n",
       "                 Book-Author Year-Of-Publication  \\\n",
       "1       Richard Bruce Wright                2001   \n",
       "2       Richard Bruce Wright                2001   \n",
       "3       Richard Bruce Wright                2001   \n",
       "4       Richard Bruce Wright                2001   \n",
       "5       Richard Bruce Wright                2001   \n",
       "...                      ...                 ...   \n",
       "505352     Vonda N. McIntyre                1978   \n",
       "505358           David Biggs                2004   \n",
       "505360          Robin Wright                1993   \n",
       "505361        Paula Danziger                1988   \n",
       "505362            Teri Sloat                1991   \n",
       "\n",
       "                              Publisher   User-ID  Book-Rating  \n",
       "1                 HarperFlamingo Canada       8.0          5.0  \n",
       "2                 HarperFlamingo Canada   11676.0          8.0  \n",
       "3                 HarperFlamingo Canada   67544.0          8.0  \n",
       "4                 HarperFlamingo Canada  116866.0          9.0  \n",
       "5                 HarperFlamingo Canada  123629.0          9.0  \n",
       "...                                 ...       ...          ...  \n",
       "505352                 Houghton Mifflin  275318.0         10.0  \n",
       "505358                        Connaught  275970.0          7.0  \n",
       "505360                 Ballantine Books  276313.0          5.0  \n",
       "505361  Random House Childrens Pub (Mm)  276463.0          7.0  \n",
       "505362                     Dutton Books  276579.0          4.0  \n",
       "\n",
       "[383839 rows x 7 columns]"
      ]
     },
     "execution_count": 7,
     "metadata": {},
     "output_type": "execute_result"
    }
   ],
   "source": [
    "book_ratings"
   ]
  },
  {
   "cell_type": "code",
   "execution_count": 8,
   "id": "6f76ec96",
   "metadata": {},
   "outputs": [],
   "source": [
    "book_ratings[\"User-ID\"] = pd.to_numeric(book_ratings[\"User-ID\"], errors='coerce')"
   ]
  },
  {
   "cell_type": "code",
   "execution_count": 9,
   "id": "2e92634a",
   "metadata": {},
   "outputs": [],
   "source": [
    "book_ratings[\"User-ID\"] = book_ratings[\"User-ID\"].astype(int)"
   ]
  },
  {
   "cell_type": "code",
   "execution_count": 10,
   "id": "0f6e6f1f",
   "metadata": {},
   "outputs": [
    {
     "data": {
      "text/html": [
       "<div>\n",
       "<style scoped>\n",
       "    .dataframe tbody tr th:only-of-type {\n",
       "        vertical-align: middle;\n",
       "    }\n",
       "\n",
       "    .dataframe tbody tr th {\n",
       "        vertical-align: top;\n",
       "    }\n",
       "\n",
       "    .dataframe thead th {\n",
       "        text-align: right;\n",
       "    }\n",
       "</style>\n",
       "<table border=\"1\" class=\"dataframe\">\n",
       "  <thead>\n",
       "    <tr style=\"text-align: right;\">\n",
       "      <th></th>\n",
       "      <th>ISBN</th>\n",
       "      <th>Book-Title</th>\n",
       "      <th>Book-Author</th>\n",
       "      <th>Year-Of-Publication</th>\n",
       "      <th>Publisher</th>\n",
       "      <th>User-ID</th>\n",
       "      <th>Book-Rating</th>\n",
       "    </tr>\n",
       "  </thead>\n",
       "  <tbody>\n",
       "    <tr>\n",
       "      <th>1</th>\n",
       "      <td>0002005018</td>\n",
       "      <td>Clara Callan</td>\n",
       "      <td>Richard Bruce Wright</td>\n",
       "      <td>2001</td>\n",
       "      <td>HarperFlamingo Canada</td>\n",
       "      <td>8</td>\n",
       "      <td>5.0</td>\n",
       "    </tr>\n",
       "    <tr>\n",
       "      <th>2</th>\n",
       "      <td>0002005018</td>\n",
       "      <td>Clara Callan</td>\n",
       "      <td>Richard Bruce Wright</td>\n",
       "      <td>2001</td>\n",
       "      <td>HarperFlamingo Canada</td>\n",
       "      <td>11676</td>\n",
       "      <td>8.0</td>\n",
       "    </tr>\n",
       "    <tr>\n",
       "      <th>3</th>\n",
       "      <td>0002005018</td>\n",
       "      <td>Clara Callan</td>\n",
       "      <td>Richard Bruce Wright</td>\n",
       "      <td>2001</td>\n",
       "      <td>HarperFlamingo Canada</td>\n",
       "      <td>67544</td>\n",
       "      <td>8.0</td>\n",
       "    </tr>\n",
       "    <tr>\n",
       "      <th>4</th>\n",
       "      <td>0002005018</td>\n",
       "      <td>Clara Callan</td>\n",
       "      <td>Richard Bruce Wright</td>\n",
       "      <td>2001</td>\n",
       "      <td>HarperFlamingo Canada</td>\n",
       "      <td>116866</td>\n",
       "      <td>9.0</td>\n",
       "    </tr>\n",
       "    <tr>\n",
       "      <th>5</th>\n",
       "      <td>0002005018</td>\n",
       "      <td>Clara Callan</td>\n",
       "      <td>Richard Bruce Wright</td>\n",
       "      <td>2001</td>\n",
       "      <td>HarperFlamingo Canada</td>\n",
       "      <td>123629</td>\n",
       "      <td>9.0</td>\n",
       "    </tr>\n",
       "    <tr>\n",
       "      <th>...</th>\n",
       "      <td>...</td>\n",
       "      <td>...</td>\n",
       "      <td>...</td>\n",
       "      <td>...</td>\n",
       "      <td>...</td>\n",
       "      <td>...</td>\n",
       "      <td>...</td>\n",
       "    </tr>\n",
       "    <tr>\n",
       "      <th>505352</th>\n",
       "      <td>0395264707</td>\n",
       "      <td>Dreamsnake</td>\n",
       "      <td>Vonda N. McIntyre</td>\n",
       "      <td>1978</td>\n",
       "      <td>Houghton Mifflin</td>\n",
       "      <td>275318</td>\n",
       "      <td>10.0</td>\n",
       "    </tr>\n",
       "    <tr>\n",
       "      <th>505358</th>\n",
       "      <td>1845170423</td>\n",
       "      <td>Cocktail Classics</td>\n",
       "      <td>David Biggs</td>\n",
       "      <td>2004</td>\n",
       "      <td>Connaught</td>\n",
       "      <td>275970</td>\n",
       "      <td>7.0</td>\n",
       "    </tr>\n",
       "    <tr>\n",
       "      <th>505360</th>\n",
       "      <td>0449906736</td>\n",
       "      <td>Flashpoints: Promise and Peril in a New World</td>\n",
       "      <td>Robin Wright</td>\n",
       "      <td>1993</td>\n",
       "      <td>Ballantine Books</td>\n",
       "      <td>276313</td>\n",
       "      <td>5.0</td>\n",
       "    </tr>\n",
       "    <tr>\n",
       "      <th>505361</th>\n",
       "      <td>0440400988</td>\n",
       "      <td>There's a Bat in Bunk Five</td>\n",
       "      <td>Paula Danziger</td>\n",
       "      <td>1988</td>\n",
       "      <td>Random House Childrens Pub (Mm)</td>\n",
       "      <td>276463</td>\n",
       "      <td>7.0</td>\n",
       "    </tr>\n",
       "    <tr>\n",
       "      <th>505362</th>\n",
       "      <td>0525447644</td>\n",
       "      <td>From One to One Hundred</td>\n",
       "      <td>Teri Sloat</td>\n",
       "      <td>1991</td>\n",
       "      <td>Dutton Books</td>\n",
       "      <td>276579</td>\n",
       "      <td>4.0</td>\n",
       "    </tr>\n",
       "  </tbody>\n",
       "</table>\n",
       "<p>383839 rows × 7 columns</p>\n",
       "</div>"
      ],
      "text/plain": [
       "              ISBN                                     Book-Title  \\\n",
       "1       0002005018                                   Clara Callan   \n",
       "2       0002005018                                   Clara Callan   \n",
       "3       0002005018                                   Clara Callan   \n",
       "4       0002005018                                   Clara Callan   \n",
       "5       0002005018                                   Clara Callan   \n",
       "...            ...                                            ...   \n",
       "505352  0395264707                                     Dreamsnake   \n",
       "505358  1845170423                              Cocktail Classics   \n",
       "505360  0449906736  Flashpoints: Promise and Peril in a New World   \n",
       "505361  0440400988                     There's a Bat in Bunk Five   \n",
       "505362  0525447644                        From One to One Hundred   \n",
       "\n",
       "                 Book-Author Year-Of-Publication  \\\n",
       "1       Richard Bruce Wright                2001   \n",
       "2       Richard Bruce Wright                2001   \n",
       "3       Richard Bruce Wright                2001   \n",
       "4       Richard Bruce Wright                2001   \n",
       "5       Richard Bruce Wright                2001   \n",
       "...                      ...                 ...   \n",
       "505352     Vonda N. McIntyre                1978   \n",
       "505358           David Biggs                2004   \n",
       "505360          Robin Wright                1993   \n",
       "505361        Paula Danziger                1988   \n",
       "505362            Teri Sloat                1991   \n",
       "\n",
       "                              Publisher  User-ID  Book-Rating  \n",
       "1                 HarperFlamingo Canada        8          5.0  \n",
       "2                 HarperFlamingo Canada    11676          8.0  \n",
       "3                 HarperFlamingo Canada    67544          8.0  \n",
       "4                 HarperFlamingo Canada   116866          9.0  \n",
       "5                 HarperFlamingo Canada   123629          9.0  \n",
       "...                                 ...      ...          ...  \n",
       "505352                 Houghton Mifflin   275318         10.0  \n",
       "505358                        Connaught   275970          7.0  \n",
       "505360                 Ballantine Books   276313          5.0  \n",
       "505361  Random House Childrens Pub (Mm)   276463          7.0  \n",
       "505362                     Dutton Books   276579          4.0  \n",
       "\n",
       "[383839 rows x 7 columns]"
      ]
     },
     "execution_count": 10,
     "metadata": {},
     "output_type": "execute_result"
    }
   ],
   "source": [
    "book_ratings"
   ]
  },
  {
   "cell_type": "code",
   "execution_count": 15,
   "id": "6597d0d7",
   "metadata": {},
   "outputs": [
    {
     "name": "stdout",
     "output_type": "stream",
     "text": [
      "Collecting googletrans==4.0.0-rc1\n",
      "  Downloading googletrans-4.0.0rc1.tar.gz (20 kB)\n",
      "  Preparing metadata (setup.py): started\n",
      "  Preparing metadata (setup.py): finished with status 'done'\n",
      "Collecting httpx==0.13.3 (from googletrans==4.0.0-rc1)\n",
      "  Downloading httpx-0.13.3-py3-none-any.whl (55 kB)\n",
      "     ---------------------------------------- 0.0/55.1 kB ? eta -:--:--\n",
      "     ---------------------------------------- 55.1/55.1 kB 1.4 MB/s eta 0:00:00\n",
      "Requirement already satisfied: certifi in c:\\users\\seeke\\anaconda3\\lib\\site-packages (from httpx==0.13.3->googletrans==4.0.0-rc1) (2023.11.17)\n",
      "Collecting hstspreload (from httpx==0.13.3->googletrans==4.0.0-rc1)\n",
      "  Obtaining dependency information for hstspreload from https://files.pythonhosted.org/packages/b5/9f/83329ebd2808e04f2564051e4c4a880a1e2e67bd6410899f728096d0e22f/hstspreload-2024.2.1-py3-none-any.whl.metadata\n",
      "  Downloading hstspreload-2024.2.1-py3-none-any.whl.metadata (2.1 kB)\n",
      "Requirement already satisfied: sniffio in c:\\users\\seeke\\anaconda3\\lib\\site-packages (from httpx==0.13.3->googletrans==4.0.0-rc1) (1.2.0)\n",
      "Collecting chardet==3.* (from httpx==0.13.3->googletrans==4.0.0-rc1)\n",
      "  Downloading chardet-3.0.4-py2.py3-none-any.whl (133 kB)\n",
      "     ---------------------------------------- 0.0/133.4 kB ? eta -:--:--\n",
      "     -------------------------------------- 133.4/133.4 kB 4.0 MB/s eta 0:00:00\n",
      "Collecting idna==2.* (from httpx==0.13.3->googletrans==4.0.0-rc1)\n",
      "  Downloading idna-2.10-py2.py3-none-any.whl (58 kB)\n",
      "     ---------------------------------------- 0.0/58.8 kB ? eta -:--:--\n",
      "     ---------------------------------------- 58.8/58.8 kB 1.5 MB/s eta 0:00:00\n",
      "Collecting rfc3986<2,>=1.3 (from httpx==0.13.3->googletrans==4.0.0-rc1)\n",
      "  Downloading rfc3986-1.5.0-py2.py3-none-any.whl (31 kB)\n",
      "Collecting httpcore==0.9.* (from httpx==0.13.3->googletrans==4.0.0-rc1)\n",
      "  Downloading httpcore-0.9.1-py3-none-any.whl (42 kB)\n",
      "     ---------------------------------------- 0.0/42.6 kB ? eta -:--:--\n",
      "     ---------------------------------------- 42.6/42.6 kB 2.2 MB/s eta 0:00:00\n",
      "Collecting h11<0.10,>=0.8 (from httpcore==0.9.*->httpx==0.13.3->googletrans==4.0.0-rc1)\n",
      "  Downloading h11-0.9.0-py2.py3-none-any.whl (53 kB)\n",
      "     ---------------------------------------- 0.0/53.6 kB ? eta -:--:--\n",
      "     ---------------------------------------- 53.6/53.6 kB 1.4 MB/s eta 0:00:00\n",
      "Collecting h2==3.* (from httpcore==0.9.*->httpx==0.13.3->googletrans==4.0.0-rc1)\n",
      "  Downloading h2-3.2.0-py2.py3-none-any.whl (65 kB)\n",
      "     ---------------------------------------- 0.0/65.0 kB ? eta -:--:--\n",
      "     ---------------------------------------- 65.0/65.0 kB 3.7 MB/s eta 0:00:00\n",
      "Collecting hyperframe<6,>=5.2.0 (from h2==3.*->httpcore==0.9.*->httpx==0.13.3->googletrans==4.0.0-rc1)\n",
      "  Downloading hyperframe-5.2.0-py2.py3-none-any.whl (12 kB)\n",
      "Collecting hpack<4,>=3.0 (from h2==3.*->httpcore==0.9.*->httpx==0.13.3->googletrans==4.0.0-rc1)\n",
      "  Downloading hpack-3.0.0-py2.py3-none-any.whl (38 kB)\n",
      "Downloading hstspreload-2024.2.1-py3-none-any.whl (1.1 MB)\n",
      "   ---------------------------------------- 0.0/1.1 MB ? eta -:--:--\n",
      "   ---------------------------------------  1.1/1.1 MB 35.3 MB/s eta 0:00:01\n",
      "   ---------------------------------------- 1.1/1.1 MB 17.7 MB/s eta 0:00:00\n",
      "Building wheels for collected packages: googletrans\n",
      "  Building wheel for googletrans (setup.py): started\n",
      "  Building wheel for googletrans (setup.py): finished with status 'done'\n",
      "  Created wheel for googletrans: filename=googletrans-4.0.0rc1-py3-none-any.whl size=17461 sha256=f17cdb1e678328b530cf675d8d2bf5f15b846ed61369a99d410342f089f3b415\n",
      "  Stored in directory: c:\\users\\seeke\\appdata\\local\\pip\\cache\\wheels\\39\\17\\6f\\66a045ea3d168826074691b4b787b8f324d3f646d755443fda\n",
      "Successfully built googletrans\n",
      "Installing collected packages: rfc3986, hyperframe, hpack, h11, chardet, idna, hstspreload, h2, httpcore, httpx, googletrans\n",
      "  Attempting uninstall: h11\n",
      "    Found existing installation: h11 0.14.0\n",
      "    Uninstalling h11-0.14.0:\n",
      "      Successfully uninstalled h11-0.14.0\n",
      "  Attempting uninstall: chardet\n",
      "    Found existing installation: chardet 4.0.0\n",
      "    Uninstalling chardet-4.0.0:\n",
      "      Successfully uninstalled chardet-4.0.0\n",
      "  Attempting uninstall: idna\n",
      "    Found existing installation: idna 3.4\n",
      "    Uninstalling idna-3.4:\n",
      "      Successfully uninstalled idna-3.4\n",
      "Successfully installed chardet-3.0.4 googletrans-4.0.0rc1 h11-0.9.0 h2-3.2.0 hpack-3.0.0 hstspreload-2024.2.1 httpcore-0.9.1 httpx-0.13.3 hyperframe-5.2.0 idna-2.10 rfc3986-1.5.0\n"
     ]
    },
    {
     "name": "stderr",
     "output_type": "stream",
     "text": [
      "ERROR: pip's dependency resolver does not currently take into account all the packages that are installed. This behaviour is the source of the following dependency conflicts.\n",
      "transformers 2.1.1 requires sentencepiece, which is not installed.\n"
     ]
    }
   ],
   "source": [
    "# !pip install googletrans==4.0.0-rc1"
   ]
  },
  {
   "cell_type": "code",
   "execution_count": null,
   "id": "7f8752e7",
   "metadata": {},
   "outputs": [],
   "source": [
    "from googletrans import Translator\n",
    "\n",
    "title = book_ratings[\"Book-Title\"]\n",
    "\n",
    "def translate_to_english(title, translator):\n",
    "    try:\n",
    "        # Translate the title to English\n",
    "        translation = translator.translate(title, dest='en')\n",
    "        return translation.text\n",
    "    except Exception as e:\n",
    "        # Handle any potential errors during translation\n",
    "#         print(f\"Error translating '{title}': {str(e)}\")\n",
    "        return title\n",
    "\n",
    "# Create a Translator object\n",
    "translator = Translator()\n",
    "\n",
    "# Apply translation to the 'Title' column\n",
    "book_ratings['Translated Title'] = book_ratings[\"Book-Title\"].apply(lambda x: translate_to_english(x, translator))\n",
    "\n",
    "# Display the DataFrame with translated titles\n",
    "print(book_ratings)"
   ]
  },
  {
   "cell_type": "code",
   "execution_count": 12,
   "id": "35917e22",
   "metadata": {},
   "outputs": [
    {
     "name": "stdout",
     "output_type": "stream",
     "text": [
      "Original Title: Thérè àrè sòmè spéciâl chäräctérs\n",
      "Normalized Title: Thérè àrè sòmè spéciâl chäräctérs\n"
     ]
    }
   ],
   "source": [
    "import unicodedata\n",
    "\n",
    "def normalize_text(input_text, form='NFD'):\n",
    "    normalized_text = unicodedata.normalize(form, input_text)\n",
    "    return normalized_text\n",
    "\n",
    "# Example usage\n",
    "original_title = \"Thérè àrè sòmè spéciâl chäräctérs\"\n",
    "normalized_title = normalize_text(original_title)\n",
    "\n",
    "print(\"Original Title:\", original_title)\n",
    "print(\"Normalized Title:\", normalized_title)"
   ]
  },
  {
   "cell_type": "code",
   "execution_count": 13,
   "id": "7f95bf5c",
   "metadata": {},
   "outputs": [],
   "source": [
    "def convert_special_characters(title):\n",
    "    # Define a mapping of special characters to their English alphabet equivalents\n",
    "    special_characters_mapping = {\n",
    "        'à': 'a', 'á': 'a', 'â': 'a', 'ä': 'a',\n",
    "        'è': 'e', 'é': 'e', 'ê': 'e', 'ë': 'e',\n",
    "        'ì': 'i', 'í': 'i', 'î': 'i', 'ï': 'i',\n",
    "        'ò': 'o', 'ó': 'o', 'ô': 'o', 'ö': 'o',\n",
    "        'ù': 'u', 'ú': 'u', 'û': 'u', 'ü': 'u',\n",
    "        # Add more mappings as needed\n",
    "    }\n",
    "\n",
    "    # Apply the mapping to the title\n",
    "    converted_title = ''.join(special_characters_mapping.get(char, char) for char in title)\n",
    "\n",
    "    return converted_title\n",
    "\n",
    "# Example usage\n",
    "original_title = \"Thérè àrè sòmè spéciâl chäräctérs\"\n",
    "converted_title = convert_special_characters(original_title)"
   ]
  },
  {
   "cell_type": "code",
   "execution_count": 14,
   "id": "014ed379",
   "metadata": {},
   "outputs": [
    {
     "data": {
      "text/plain": [
       "'There are some special characters'"
      ]
     },
     "execution_count": 14,
     "metadata": {},
     "output_type": "execute_result"
    }
   ],
   "source": [
    "converted_title"
   ]
  },
  {
   "cell_type": "code",
   "execution_count": 11,
   "id": "91d17c4f",
   "metadata": {},
   "outputs": [],
   "source": [
    "book_ratings = book_ratings.reset_index()"
   ]
  },
  {
   "cell_type": "code",
   "execution_count": 12,
   "id": "8a4b180c",
   "metadata": {},
   "outputs": [
    {
     "data": {
      "text/plain": [
       "index                  383839\n",
       "ISBN                   149833\n",
       "Book-Title             135565\n",
       "Book-Author             62112\n",
       "Year-Of-Publication       106\n",
       "Publisher               11574\n",
       "User-ID                 68091\n",
       "Book-Rating                10\n",
       "dtype: int64"
      ]
     },
     "execution_count": 12,
     "metadata": {},
     "output_type": "execute_result"
    }
   ],
   "source": [
    "book_ratings.nunique()"
   ]
  },
  {
   "cell_type": "code",
   "execution_count": null,
   "id": "a5fb01b5",
   "metadata": {},
   "outputs": [],
   "source": []
  },
  {
   "cell_type": "code",
   "execution_count": 13,
   "id": "ace6524d",
   "metadata": {},
   "outputs": [],
   "source": [
    "# Use Label Encoding from scikit-learn to encode ISBNs which are categorical\n",
    "from sklearn.preprocessing import LabelEncoder\n",
    "\n",
    "isbn_encoder = LabelEncoder()\n",
    "book_ratings[\"ISBN_encoded\"] = isbn_encoder.fit_transform(book_ratings[\"ISBN\"])\n",
    "\n",
    "# Reverse the encoding - we will use this to reverse the encoding later if needed\n",
    "# book_ratings['ISBN_decoded'] = isbn_encoder.inverse_transform(book_ratings['ISBN_encoded'])"
   ]
  },
  {
   "cell_type": "code",
   "execution_count": 34,
   "id": "dc81def5",
   "metadata": {},
   "outputs": [
    {
     "data": {
      "text/plain": [
       "index                    int64\n",
       "ISBN                    object\n",
       "Book-Title              object\n",
       "Book-Author             object\n",
       "Year-Of-Publication     object\n",
       "Publisher               object\n",
       "User-ID                  int32\n",
       "Book-Rating            float64\n",
       "ISBN_encoded             int32\n",
       "dtype: object"
      ]
     },
     "execution_count": 34,
     "metadata": {},
     "output_type": "execute_result"
    }
   ],
   "source": [
    "book_ratings.dtypes"
   ]
  },
  {
   "cell_type": "code",
   "execution_count": 30,
   "id": "b3925fe2",
   "metadata": {},
   "outputs": [
    {
     "data": {
      "text/plain": [
       "<pandas.core.indexing._LocIndexer at 0x16759b1dfe0>"
      ]
     },
     "metadata": {},
     "output_type": "display_data"
    }
   ],
   "source": [
    "display(book_ratings.loc([\"ISBN_encoded\"] == \"074322678X\"))\n"
   ]
  },
  {
   "cell_type": "code",
   "execution_count": 15,
   "id": "fba5c807",
   "metadata": {},
   "outputs": [],
   "source": [
    "book_ratings.to_csv(\"Output/book_ratings.csv\", index = False)"
   ]
  },
  {
   "cell_type": "code",
   "execution_count": null,
   "id": "0cd134c2",
   "metadata": {},
   "outputs": [],
   "source": [
    "n_users = book_ratings[\"User-ID\"].unique().shape[0]\n",
    "n_items = book_ratings[\"ISBN_encoded\"].unique().shape[0]\n",
    "n_items = book_ratings[\"ISBN_encoded\"].max()\n",
    "A = np.zeros((n_users, n_items))\n",
    "\n",
    "for line in dataset.itertuples():\n",
    "    A[line[1] - 1, line[2] - 1] = line[3]\n"
   ]
  },
  {
   "cell_type": "code",
   "execution_count": 32,
   "id": "2aaf8035",
   "metadata": {},
   "outputs": [],
   "source": [
    "non_integer_rows = book_ratings[~book_ratings['ISBN_encoded'].apply(lambda x: isinstance(x, int))]"
   ]
  },
  {
   "cell_type": "code",
   "execution_count": 33,
   "id": "5c28a1b2",
   "metadata": {},
   "outputs": [
    {
     "data": {
      "text/html": [
       "<div>\n",
       "<style scoped>\n",
       "    .dataframe tbody tr th:only-of-type {\n",
       "        vertical-align: middle;\n",
       "    }\n",
       "\n",
       "    .dataframe tbody tr th {\n",
       "        vertical-align: top;\n",
       "    }\n",
       "\n",
       "    .dataframe thead th {\n",
       "        text-align: right;\n",
       "    }\n",
       "</style>\n",
       "<table border=\"1\" class=\"dataframe\">\n",
       "  <thead>\n",
       "    <tr style=\"text-align: right;\">\n",
       "      <th></th>\n",
       "      <th>index</th>\n",
       "      <th>ISBN</th>\n",
       "      <th>Book-Title</th>\n",
       "      <th>Book-Author</th>\n",
       "      <th>Year-Of-Publication</th>\n",
       "      <th>Publisher</th>\n",
       "      <th>User-ID</th>\n",
       "      <th>Book-Rating</th>\n",
       "      <th>ISBN_encoded</th>\n",
       "    </tr>\n",
       "  </thead>\n",
       "  <tbody>\n",
       "  </tbody>\n",
       "</table>\n",
       "</div>"
      ],
      "text/plain": [
       "Empty DataFrame\n",
       "Columns: [index, ISBN, Book-Title, Book-Author, Year-Of-Publication, Publisher, User-ID, Book-Rating, ISBN_encoded]\n",
       "Index: []"
      ]
     },
     "execution_count": 33,
     "metadata": {},
     "output_type": "execute_result"
    }
   ],
   "source": [
    "non_integer_rows"
   ]
  },
  {
   "cell_type": "code",
   "execution_count": null,
   "id": "41b45e83",
   "metadata": {},
   "outputs": [],
   "source": []
  }
 ],
 "metadata": {
  "kernelspec": {
   "display_name": "Python 3 (ipykernel)",
   "language": "python",
   "name": "python3"
  },
  "language_info": {
   "codemirror_mode": {
    "name": "ipython",
    "version": 3
   },
   "file_extension": ".py",
   "mimetype": "text/x-python",
   "name": "python",
   "nbconvert_exporter": "python",
   "pygments_lexer": "ipython3",
   "version": "3.11.4"
  }
 },
 "nbformat": 4,
 "nbformat_minor": 5
}
