{
 "cells": [
  {
   "cell_type": "markdown",
   "metadata": {},
   "source": [
    "# Project 4 - Books Recommendation using cosine similarity\n",
    "Collaborative based filtering->Item based"
   ]
  },
  {
   "cell_type": "code",
   "execution_count": 1,
   "metadata": {},
   "outputs": [],
   "source": [
    "# Dependencies\n",
    "import pandas as pd\n",
    "import matplotlib.pyplot as plt\n",
    "from sklearn.metrics.pairwise import cosine_similarity\n",
    "import sklearn as sk\n"
   ]
  },
  {
   "cell_type": "markdown",
   "metadata": {},
   "source": [
    "### Data preparation"
   ]
  },
  {
   "cell_type": "code",
   "execution_count": 2,
   "metadata": {},
   "outputs": [
    {
     "name": "stderr",
     "output_type": "stream",
     "text": [
      "/var/folders/3g/t4y_09d901v7s2qw9dqk8jzw0000gn/T/ipykernel_32577/3321706434.py:2: DtypeWarning: Columns (3) have mixed types. Specify dtype option on import or set low_memory=False.\n",
      "  books_df_original = pd.read_csv('./Resources/Books.csv')\n"
     ]
    }
   ],
   "source": [
    "#Creating dataframes from csv files to read the data\n",
    "books_df_original = pd.read_csv('./Resources/Books.csv')\n",
    "ratings_df = pd.read_csv('./Resources/Ratings.csv')"
   ]
  },
  {
   "cell_type": "code",
   "execution_count": 3,
   "metadata": {},
   "outputs": [],
   "source": [
    "# Filter out data with no publication year\n",
    "books_df = books_df_original[books_df_original['Year-Of-Publication'] != 0]"
   ]
  },
  {
   "cell_type": "code",
   "execution_count": 4,
   "metadata": {},
   "outputs": [],
   "source": [
    "# remove duplicated books records if any by looking at ISBN\n",
    "books_df=books_df.drop_duplicates(subset=['ISBN'])"
   ]
  },
  {
   "cell_type": "code",
   "execution_count": 5,
   "metadata": {},
   "outputs": [],
   "source": [
    "# update the datatype of a 'Book-Rating' field to numeric one\n",
    "ratings_df['Book-Rating']=pd.to_numeric(ratings_df['Book-Rating'],errors='coerce')"
   ]
  },
  {
   "cell_type": "code",
   "execution_count": 6,
   "metadata": {},
   "outputs": [],
   "source": [
    "# merge books data with ratings, so that we have only those records where books is rated and has title info\n",
    "ratings_df=pd.merge(books_df,ratings_df,on='ISBN', how = 'inner')\n",
    "# leave only title, user and rating data\n",
    "ratings_df=ratings_df.drop(['ISBN','Book-Author','Year-Of-Publication','Publisher','Image-URL-S','Image-URL-M','Image-URL-L'], axis=1)\n",
    "# drop if any N/As\n",
    "ratings_df=ratings_df.dropna()\n",
    "# drop duplicated records when same user could rate book(s) with same title\n",
    "ratings_df=ratings_df.drop_duplicates()"
   ]
  },
  {
   "cell_type": "markdown",
   "metadata": {},
   "source": [
    "### Filter data, so that only statistically significant data are left"
   ]
  },
  {
   "cell_type": "code",
   "execution_count": 7,
   "metadata": {},
   "outputs": [],
   "source": [
    "min_books_rated_by_user=50\n",
    "min_rates_received_by_book=25\n",
    "top_X_recommendations=5"
   ]
  },
  {
   "cell_type": "code",
   "execution_count": 8,
   "metadata": {},
   "outputs": [],
   "source": [
    "#find the count of books rated by user\n",
    "groupped_r_users=ratings_df.groupby('User-ID')['Book-Rating'].count()\n",
    "\n",
    "#find the count of rates per book-title\n",
    "groupped_r_books=ratings_df.groupby('Book-Title')['User-ID'].count()\n",
    "\n",
    "#select only those books which were rated more than min_rates_received_by_book\n",
    "titles_with_acceptable_rates_count=list(groupped_r_books[groupped_r_books>min_rates_received_by_book].index)\n",
    "\n",
    "#select only those users (user_id) who rated more than min_books_rated_by_user books\n",
    "user_ids_with_acceptable_books_count_rated=list(groupped_r_users[groupped_r_users>min_books_rated_by_user].index)\n",
    "\n",
    "# filter rating-user data to have only books/users of interest (which have highest rates count and rated highest number of books respectively)\n",
    "rating_input_df=ratings_df[ratings_df['Book-Title'].isin(titles_with_acceptable_rates_count)&ratings_df['User-ID'].isin(user_ids_with_acceptable_books_count_rated)]\n",
    "\n"
   ]
  },
  {
   "cell_type": "code",
   "execution_count": 9,
   "metadata": {},
   "outputs": [],
   "source": [
    "def recommend_me_books_cos_sim(book_title, rating_input_df):\n",
    "    # use pivot method to create a matrix with columns=User-ID and rows='Book-Title' and values equal to rating value given for a book by a respective user\n",
    "    df_books_ratigs_user=rating_input_df.pivot_table(index='Book-Title', columns='User-ID', values='Book-Rating')\n",
    "    # filling n/a with 0 so far, assuming it means that no interest for a book by a user,\n",
    "    df_books_ratigs_user=df_books_ratigs_user.fillna(0)\n",
    "    # create a dictionary for mapping between row number ans Book-Title\n",
    "    index_title_dict=dict(df_books_ratigs_user.reset_index()['Book-Title'])\n",
    "    # apply cosine_similarity\n",
    "    books_similarity = cosine_similarity(df_books_ratigs_user)\n",
    "    # convert output of cosine_similarity into df\n",
    "    books_similarity_df=pd.DataFrame(books_similarity)\n",
    "    # introduce title here\n",
    "    books_similarity_df=books_similarity_df.rename(columns=index_title_dict)\n",
    "    books_similarity_df['Book-Title']=books_similarity_df.index\n",
    "    books_similarity_df['Book-Title']=books_similarity_df['Book-Title'].map(index_title_dict)\n",
    "    # find a similarity list for the book\n",
    "    recommendations=books_similarity_df[[book_title,'Book-Title']].sort_values(by=book_title, ascending=False)\n",
    "    book_title_list=[book_title]\n",
    "    recommendations=recommendations[~recommendations['Book-Title'].isin(book_title_list)]\n",
    "    # select top top_X_recommendations\n",
    "    top_recommendations=recommendations[:top_X_recommendations].rename(columns={book_title:'similarity rate'})\n",
    "    recommendations_full_info=pd.merge(top_recommendations, books_df, left_on='Book-Title',right_on='Book-Title', how='left')\n",
    "    dict_years=dict(recommendations_full_info.groupby('Book-Title')['Year-Of-Publication'].max())\n",
    "    for i, row in recommendations_full_info.iterrows():\n",
    "        if row['Year-Of-Publication']!=dict_years[row['Book-Title']]:\n",
    "            recommendations_full_info.loc[i,'Year-Of-Publication']=0\n",
    "    recommendations_full_info=recommendations_full_info[recommendations_full_info['Year-Of-Publication'] != 0]\n",
    "    recommendations_full_info=recommendations_full_info.drop_duplicates(subset=['Book-Title'])\n",
    "    return recommendations_full_info\n"
   ]
  },
  {
   "cell_type": "code",
   "execution_count": 10,
   "metadata": {},
   "outputs": [
    {
     "ename": "UnboundLocalError",
     "evalue": "cannot access local variable 'recommendations_full_info' where it is not associated with a value",
     "output_type": "error",
     "traceback": [
      "\u001b[0;31m---------------------------------------------------------------------------\u001b[0m",
      "\u001b[0;31mUnboundLocalError\u001b[0m                         Traceback (most recent call last)",
      "Cell \u001b[0;32mIn[10], line 1\u001b[0m\n\u001b[0;32m----> 1\u001b[0m recommend_me_books_cos_sim(\u001b[38;5;124m'\u001b[39m\u001b[38;5;124m1st to Die: A Novel\u001b[39m\u001b[38;5;124m'\u001b[39m, rating_input_df)\n",
      "Cell \u001b[0;32mIn[9], line 22\u001b[0m, in \u001b[0;36mrecommend_me_books_cos_sim\u001b[0;34m(book_title, rating_input_df)\u001b[0m\n\u001b[1;32m     20\u001b[0m \u001b[38;5;66;03m# select top top_X_recommendations\u001b[39;00m\n\u001b[1;32m     21\u001b[0m top_recommendations\u001b[38;5;241m=\u001b[39mrecommendations[:top_X_recommendations]\u001b[38;5;241m.\u001b[39mrename(columns\u001b[38;5;241m=\u001b[39m{book_title:\u001b[38;5;124m'\u001b[39m\u001b[38;5;124msimilarity rate\u001b[39m\u001b[38;5;124m'\u001b[39m})\n\u001b[0;32m---> 22\u001b[0m dict_years\u001b[38;5;241m=\u001b[39m\u001b[38;5;28mdict\u001b[39m(recommendations_full_info\u001b[38;5;241m.\u001b[39mgroupby(\u001b[38;5;124m'\u001b[39m\u001b[38;5;124mBook-Title\u001b[39m\u001b[38;5;124m'\u001b[39m)[\u001b[38;5;124m'\u001b[39m\u001b[38;5;124mYear-Of-Publication\u001b[39m\u001b[38;5;124m'\u001b[39m]\u001b[38;5;241m.\u001b[39mmax())\n\u001b[1;32m     23\u001b[0m recommendations_full_info\u001b[38;5;241m=\u001b[39mpd\u001b[38;5;241m.\u001b[39mmerge(top_recommendations, books_df, left_on\u001b[38;5;241m=\u001b[39m\u001b[38;5;124m'\u001b[39m\u001b[38;5;124mBook-Title\u001b[39m\u001b[38;5;124m'\u001b[39m,right_on\u001b[38;5;241m=\u001b[39m\u001b[38;5;124m'\u001b[39m\u001b[38;5;124mBook-Title\u001b[39m\u001b[38;5;124m'\u001b[39m, how\u001b[38;5;241m=\u001b[39m\u001b[38;5;124m'\u001b[39m\u001b[38;5;124mleft\u001b[39m\u001b[38;5;124m'\u001b[39m)\n\u001b[1;32m     24\u001b[0m \u001b[38;5;28;01mfor\u001b[39;00m i, row \u001b[38;5;129;01min\u001b[39;00m recommendations_full_info\u001b[38;5;241m.\u001b[39miterrows():\n",
      "\u001b[0;31mUnboundLocalError\u001b[0m: cannot access local variable 'recommendations_full_info' where it is not associated with a value"
     ]
    }
   ],
   "source": [
    "recommend_me_books_cos_sim('1st to Die: A Novel', rating_input_df)"
   ]
  }
 ],
 "metadata": {
  "anaconda-cloud": {},
  "kernelspec": {
   "display_name": "Python 3 (ipykernel)",
   "language": "python",
   "name": "python3"
  },
  "language_info": {
   "codemirror_mode": {
    "name": "ipython",
    "version": 3
   },
   "file_extension": ".py",
   "mimetype": "text/x-python",
   "name": "python",
   "nbconvert_exporter": "python",
   "pygments_lexer": "ipython3",
   "version": "3.11.5"
  }
 },
 "nbformat": 4,
 "nbformat_minor": 4
}
